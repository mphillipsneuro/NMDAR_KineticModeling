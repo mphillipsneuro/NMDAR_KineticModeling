{
 "cells": [
  {
   "cell_type": "markdown",
   "metadata": {},
   "source": [
    "# This is an example notebook for running simulations of NMDA receptor kinetics and fitting the simulation results to experimental data. This simulation and fit is of an averaged trace of single glutamate applications. \n",
    "I've tried to make each step as explicit as possible without having to comment on every line of code, but can improve it if needed."
   ]
  },
  {
   "cell_type": "markdown",
   "metadata": {},
   "source": [
    "First things first, compile your model file (.mod) so that it can be used by NEURON. This line needs to be run anytime you use a new MOD file for a simulation, or anytime you make changes directly to the text in the MOD file. If you do not recompile a MOD file after editing, your changes will not be noted by NEURON - NEURON will just use the version it knows, i.e., the old version that has been compiled."
   ]
  },
  {
   "cell_type": "code",
   "execution_count": 1,
   "metadata": {
    "tags": []
   },
   "outputs": [
    {
     "name": "stdout",
     "output_type": "stream",
     "text": [
      "/usr/bin/xcrun\n",
      "/Users/ElizabethN/Downloads/CDB_Fitting/0uM\n",
      "-n Mod files:\n",
      "-n  \"PlaneMods/CaPlaneNMDARwMem_EN4.mod\"\n",
      "\n",
      "\n",
      "COBJS=''\n",
      " -> \u001b[32mCompiling\u001b[0m mod_func.c\n",
      "gcc -O2   -I.   -I/Users/ElizabethN/opt/anaconda3/lib/python3.8/site-packages/neuron/.data/include  -I/usr/local/Cellar/open-mpi/4.1.0/include -fPIC -c mod_func.c -o mod_func.o\n",
      " => \u001b[32mLINKING\u001b[0m shared library ./libnrnmech.dylib\n",
      "g++ -O2 -DVERSION_INFO='8.0.0' -std=c++11 -dynamiclib -Wl,-headerpad_max_install_names -undefined dynamic_lookup -fPIC  -I /Users/ElizabethN/opt/anaconda3/lib/python3.8/site-packages/neuron/.data/include -o ./libnrnmech.dylib -Wl,-install_name,@rpath/libnrnmech.dylib \\\n",
      "\t  ./mod_func.o ./CaPlaneNMDARwMem_EN4.o  -L/Users/ElizabethN/opt/anaconda3/lib/python3.8/site-packages/neuron/.data/lib -lnrniv -Wl,-rpath,/Users/ElizabethN/opt/anaconda3/lib/python3.8/site-packages/neuron/.data/lib    -lreadline\n",
      "rm -f ./.libs/libnrnmech.so ; mkdir -p ./.libs ; cp ./libnrnmech.dylib ./.libs/libnrnmech.so\n",
      "Successfully created x86_64/special\n"
     ]
    }
   ],
   "source": [
    "#Compile MOD files. !nrnivmodl is a python command and PlaneMods is the subfolder \n",
    "# (located in the same folder as the notebook) containing the MOD files. The ! calls the script \"nrnivmodl\" and runs it. \n",
    "# Again, you don't need to run this unless it's the first time that this version of the MOD file is used.\n",
    "\n",
    "!nrnivmodl PlaneMods"
   ]
  },
  {
   "cell_type": "markdown",
   "metadata": {},
   "source": [
    "# Import your python packages and give them easy to call names. Also load some NEURON functions now so you don't have to later. \n",
    "We are basically loading only the python packages and parts of the NEURON program that we need, which saves us memory and allows things to run faster without losing any functionality. This is one of the advantages python has over matlab."
   ]
  },
  {
   "cell_type": "code",
   "execution_count": 1,
   "metadata": {
    "tags": []
   },
   "outputs": [
    {
     "data": {
      "text/plain": [
       "1.0"
      ]
     },
     "execution_count": 1,
     "metadata": {},
     "output_type": "execute_result"
    }
   ],
   "source": [
    "import neuron # self-explanatory\n",
    "from neuron import h, gui # NEURON libraries containing funtions that we will use \n",
    "import numpy as np # python library for math functions\n",
    "import pandas as pd # python library for working with dataframes, i.e. spreadsheets/tables\n",
    "import matplotlib.pyplot as plt # python library for plotting\n",
    "\n",
    "# Load external files & initialize.\n",
    "h.load_file(\"stdrun.hoc\");\n",
    "h.stdinit();\n",
    "h.load_file(\"mulfit.hoc\", \"MulRunFitter\")\n",
    "h.load_file(\"stdgui.hoc\")"
   ]
  },
  {
   "cell_type": "markdown",
   "metadata": {},
   "source": [
    "Load and visualize experimental data to be fit. Data is an averaged trace that has been decimated (factor of 10) to improve speed of fitting. The averaged trace was made using another notebook (\"avtrace1\") that I've provided. The time component and current component are saved as separate numpy arrays, then loaded into memory here as variables."
   ]
  },
  {
   "cell_type": "code",
   "execution_count": 2,
   "metadata": {
    "tags": []
   },
   "outputs": [
    {
     "ename": "FileNotFoundError",
     "evalue": "[Errno 2] No such file or directory: 'time_Ca0GluApp.npy'",
     "output_type": "error",
     "traceback": [
      "\u001b[1;31m---------------------------------------------------------------------------\u001b[0m",
      "\u001b[1;31mFileNotFoundError\u001b[0m                         Traceback (most recent call last)",
      "Cell \u001b[1;32mIn[2], line 3\u001b[0m\n\u001b[0;32m      1\u001b[0m \u001b[38;5;66;03m# Experimental Data\u001b[39;00m\n\u001b[0;32m      2\u001b[0m \u001b[38;5;66;03m# Load the time array in seconds, convert to ms\u001b[39;00m\n\u001b[1;32m----> 3\u001b[0m timedec \u001b[38;5;241m=\u001b[39m np\u001b[38;5;241m.\u001b[39mload(\u001b[38;5;124m\"\u001b[39m\u001b[38;5;124mtime_Ca0GluApp.npy\u001b[39m\u001b[38;5;124m\"\u001b[39m)\n\u001b[0;32m      4\u001b[0m expt \u001b[38;5;241m=\u001b[39m timedec \u001b[38;5;241m*\u001b[39m \u001b[38;5;241m1000\u001b[39m\n\u001b[0;32m      6\u001b[0m \u001b[38;5;66;03m# Load current array\u001b[39;00m\n",
      "File \u001b[1;32m~\\anaconda3\\Lib\\site-packages\\numpy\\lib\\npyio.py:405\u001b[0m, in \u001b[0;36mload\u001b[1;34m(file, mmap_mode, allow_pickle, fix_imports, encoding, max_header_size)\u001b[0m\n\u001b[0;32m    403\u001b[0m     own_fid \u001b[38;5;241m=\u001b[39m \u001b[38;5;28;01mFalse\u001b[39;00m\n\u001b[0;32m    404\u001b[0m \u001b[38;5;28;01melse\u001b[39;00m:\n\u001b[1;32m--> 405\u001b[0m     fid \u001b[38;5;241m=\u001b[39m stack\u001b[38;5;241m.\u001b[39menter_context(\u001b[38;5;28mopen\u001b[39m(os_fspath(file), \u001b[38;5;124m\"\u001b[39m\u001b[38;5;124mrb\u001b[39m\u001b[38;5;124m\"\u001b[39m))\n\u001b[0;32m    406\u001b[0m     own_fid \u001b[38;5;241m=\u001b[39m \u001b[38;5;28;01mTrue\u001b[39;00m\n\u001b[0;32m    408\u001b[0m \u001b[38;5;66;03m# Code to distinguish from NumPy binary files and pickles.\u001b[39;00m\n",
      "\u001b[1;31mFileNotFoundError\u001b[0m: [Errno 2] No such file or directory: 'time_Ca0GluApp.npy'"
     ]
    }
   ],
   "source": [
    "# Experimental Data\n",
    "# Load the time array in seconds, convert to ms\n",
    "timedec = np.load(\"time_Ca0GluApp.npy\")\n",
    "expt = timedec * 1000\n",
    "\n",
    "# Load current array\n",
    "expi = np.load(\"Ca0GluApp.npy\")\n",
    "\n",
    "# Visualize the loaded experimental data\n",
    "plt.figure(figsize=(10, 6))\n",
    "plt.plot(expt, expi)\n",
    "plt.xlabel('Time')\n",
    "plt.ylabel('Current (pA)')\n",
    "#plt.xlim(18900, 19900)\n",
    "#plt.ylim(-1.2, -0.8)\n",
    "plt.show()\n",
    "# Print the length of the concatenated trace\n",
    "print(\"Length:\", len(expi))"
   ]
  },
  {
   "cell_type": "code",
   "execution_count": null,
   "metadata": {
    "tags": []
   },
   "outputs": [],
   "source": [
    "# #EN peak adjustments\n",
    "# time_peak = expt[500:10000]\n",
    "# current_peak = expi[500:10000]\n",
    "\n",
    "# # Visualize the peak\n",
    "# plt.figure(figsize=(10, 6))\n",
    "# plt.plot(time_peak, current_peak)\n",
    "# plt.xlabel('Time')\n",
    "# plt.ylabel('Current (pA)')\n",
    "# #plt.xlim(750, 2500)\n",
    "# #plt.ylim(-1.2, -0.8)\n",
    "# plt.show()\n",
    "# # Print the length of the concatenated trace\n",
    "# #print(\"Length:\", len(expi))"
   ]
  },
  {
   "cell_type": "code",
   "execution_count": null,
   "metadata": {
    "tags": []
   },
   "outputs": [],
   "source": [
    "#Finding Ipeak over a 30 ms range\n",
    "\n",
    "Ipeak_min, Ipeak_max = 1150, 1180\n",
    "\n",
    "indices = (expt >= Ipeak_min) & (expt <= Ipeak_max)\n",
    "filtered_y = expi[indices]\n",
    "\n",
    "mean_y = np.mean(filtered_y)\n",
    "\n",
    "print(f\"Mean y-value between x = {Ipeak_min} and x = {Ipeak_max}: {mean_y}\")"
   ]
  },
  {
   "cell_type": "code",
   "execution_count": null,
   "metadata": {
    "tags": []
   },
   "outputs": [],
   "source": [
    "#Finding Iss over a 1 s range\n",
    "\n",
    "Iss_min, Iss_max = 18900, 19900\n",
    "\n",
    "indices = (expt >= Iss_min) & (expt <= Iss_max)\n",
    "filtered_y = expi[indices]\n",
    "\n",
    "mean_y = np.mean(filtered_y)\n",
    "\n",
    "print(f\"Mean y-value between x = {Iss_min} and x = {Iss_max}: {mean_y}\")"
   ]
  },
  {
   "cell_type": "markdown",
   "metadata": {},
   "source": [
    "# Build the model. \n",
    "First, we create a cell and define some properties of the cell. The properties don't matter too much for our purposes. \n",
    "The cell is a simple ball model."
   ]
  },
  {
   "cell_type": "code",
   "execution_count": null,
   "metadata": {
    "tags": []
   },
   "outputs": [],
   "source": [
    "soma = h.Section(name='soma')"
   ]
  },
  {
   "cell_type": "code",
   "execution_count": null,
   "metadata": {
    "tags": []
   },
   "outputs": [],
   "source": [
    "# properties of cell\n",
    "soma.L = 50\n",
    "soma.diam = 50\n",
    "soma.Ra = 10 #ohm*cm\n",
    "soma.cm = 1 #μF/cm^2"
   ]
  },
  {
   "cell_type": "markdown",
   "metadata": {},
   "source": [
    "Next, we add our channels to the cell. \"CaPlaneNMDARwMem\" is the name of our previously compiled MOD file.\n",
    "Note - NEURON will not recognize the \"mechanism\" if the name given here is not the same as the name in the \"POINT_PROCESS CaPlaneNMDARwMem\" line in the MOD file."
   ]
  },
  {
   "cell_type": "code",
   "execution_count": null,
   "metadata": {
    "tags": []
   },
   "outputs": [],
   "source": [
    "# insert NMDARs\n",
    "NMDAR = h.CaPlaneNMDARwMem(soma(0.5))"
   ]
  },
  {
   "cell_type": "code",
   "execution_count": null,
   "metadata": {
    "tags": []
   },
   "outputs": [],
   "source": [
    "#dir(soma) # can show you that the channels have been added"
   ]
  },
  {
   "cell_type": "markdown",
   "metadata": {},
   "source": [
    "Designate the variables you want to monitor for the simulation as \"vectors\", which is what NEURON calls arrays. These variables are either global (time) or specific to the object you specify. Available variables can be found in the MOD file or in the soma directory as shown above. You don't need to set up all of these variables - you only need time and current. However, it can be nice to be able to visually check your stimuli. A good check that everything is working properly on the simulation end is to monitor whether the voltage at the soma object (soma(0.5)._ref_v) is the same as the voltage reported by your channel object (NMDAR._ref_Vm). "
   ]
  },
  {
   "cell_type": "code",
   "execution_count": null,
   "metadata": {
    "tags": []
   },
   "outputs": [],
   "source": [
    "#Set up recording vectors for simulation variables\n",
    "time = h.Vector()\n",
    "time.record(h._ref_t)\n",
    "\n",
    "#Set up recording vectors for section variables\n",
    "vm = h.Vector()\n",
    "vm.record(soma(0.5)._ref_v)\n",
    "\n",
    "#Set up recording vectors for mechanism variables\n",
    "vsyn = h.Vector()\n",
    "vsyn.record(NMDAR._ref_Vm)\n",
    "\n",
    "im = h.Vector()\n",
    "im.record(NMDAR._ref_Inmda)\n",
    "\n",
    "A = h.Vector() # agonist\n",
    "A.record(NMDAR._ref_A)\n",
    "\n",
    "# M = h.Vector() # not needed for this simulation, since we aren't using memantine\n",
    "# M.record(NMDAR._ref_M)\n",
    "\n",
    "fs = 2   # sampling frequency in kHz"
   ]
  },
  {
   "cell_type": "markdown",
   "metadata": {
    "tags": []
   },
   "source": [
    "# Create your stimulus\n",
    "We need a method for applying agonist and antagonist to our cell. Here we model an increase in agonist/antagonist concentration using a logistic function."
   ]
  },
  {
   "cell_type": "code",
   "execution_count": 3,
   "metadata": {
    "tags": []
   },
   "outputs": [],
   "source": [
    "# Define function used for building vectors to play into NEURON\n",
    "#Original logistic function from Matt\n",
    "def logistic(x, xhalf, k, min, max):\n",
    "    \"\"\"\n",
    "    Returns a logistic curve y(x), with a midpoint of xhalf, and a slope of k\n",
    "    y(x) = (max - min) / (1 + e^(-k(x - xhalf))) + min\n",
    "    \n",
    "    Parameters:\n",
    "    -----------\n",
    "    x: sequence array\n",
    "        The x index array for time of which the curve should occur\n",
    "    xhalf: int, float\n",
    "        The value in terms of x that signifies the midpoint of x\n",
    "    k: int, float\n",
    "        The steepness or rate of increase of the sigmoid function\n",
    "    min: int, float\n",
    "        Minimum asymptote of the logistic function\n",
    "    max: int, float\n",
    "        Maximum asymptote of the logistic function\n",
    "\n",
    "    Returns:\n",
    "    --------\n",
    "    y: array\n",
    "        The y-values of len(x) of the logistic function\n",
    "    \"\"\"\n",
    "    y = min + (max - min) / (1 + np.exp(-k * (x - xhalf))) #equation for logistic, original to Matt\n",
    "    return y\n",
    "\n",
    "# Example parameters\n",
    "x0 = 120 # Midpoint of the logistic function\n",
    "fs = 2  # Sampling frequency in Hz\n",
    "rise_time_10_90 = 150  # 10-90% rise time in ms\n",
    "\n",
    "# Calculate the slope (k) for the logistic function\n",
    "k = np.log(9) / (rise_time_10_90/2)"
   ]
  },
  {
   "cell_type": "code",
   "execution_count": 4,
   "metadata": {
    "tags": []
   },
   "outputs": [],
   "source": [
    "# # Define function used for building vectors to play into NEURON\n",
    "# #Exponential rate for agonist, added by EN\n",
    "# def exponential(x, tau, min, max):\n",
    "#     \"\"\"\n",
    "#     Returns a logistic curve y(x), with a midpoint of xhalf, and a slope of k\n",
    "#     y(x) = (max - min) / (1 + e^(-k(x - xhalf))) + min\n",
    "    \n",
    "#     Parameters:\n",
    "#     -----------\n",
    "#     x: sequence array\n",
    "#         The x index array for time of which the curve should occur\n",
    "#     xhalf: int, float\n",
    "#         The value in terms of x that signifies the midpoint of x\n",
    "#     k: int, float\n",
    "#         The steepness or rate of increase of the sigmoid function\n",
    "#     min: int, float\n",
    "#         Minimum asymptote of the logistic function\n",
    "#     max: int, float\n",
    "#         Maximum asymptote of the logistic function\n",
    "\n",
    "#     Returns:\n",
    "#     --------\n",
    "#     y: array\n",
    "#         The y-values of len(x) of the logistic function\n",
    "#     \"\"\"\n",
    "#     y = min + (max - min)*(1 - np.exp(-x/tau))\n",
    "#     return y\n"
   ]
  },
  {
   "cell_type": "markdown",
   "metadata": {},
   "source": [
    "Create arrays that match your barrel protocol. The arrays are created from three parts, termed slices. Then plot your stimulus to check it."
   ]
  },
  {
   "cell_type": "code",
   "execution_count": 5,
   "metadata": {
    "tags": []
   },
   "outputs": [],
   "source": [
    "#putting curve type into the slice of agonist\n",
    "# create array for protocol and define [agonist]\n",
    "Glu = np.zeros(20000*fs)\n",
    "gconc = 1000\n",
    "\n",
    "# #shorter glu app\n",
    "# Glu = np.zeros(4000*fs)\n",
    "# gconc = 1000"
   ]
  },
  {
   "cell_type": "code",
   "execution_count": 6,
   "metadata": {
    "tags": []
   },
   "outputs": [],
   "source": [
    "# First slice defines the increase in [agonist]\n",
    "GluOnx = np.arange(0, 1000*fs)\n",
    "#GluOny = exponential (GluOnx, 27, min=0, max=gconc) #EN exponential on shape\n",
    "GluOny = logistic(GluOnx, x0 * fs, k, min=0, max=gconc) #original, logistic agonist on shape\n",
    "Glu[1025*fs:2025*fs] = GluOny"
   ]
  },
  {
   "cell_type": "code",
   "execution_count": 7,
   "metadata": {
    "tags": []
   },
   "outputs": [],
   "source": [
    "# Second slice defines steady state [agonist]\n",
    "Glu[2025*fs:19800*fs] = gconc\n",
    "\n",
    "# #shorter\n",
    "# Glu[2025*fs:5000*fs] = gconc\n"
   ]
  },
  {
   "cell_type": "code",
   "execution_count": 8,
   "metadata": {
    "tags": []
   },
   "outputs": [],
   "source": [
    "#Third slice defines decrease in [agonist]\n",
    "GluOffx = np.arange(0, 100*fs)\n",
    "#GluOffy = exponential(GluOffx, 27, min=0, max=gconc) #EN  exponential off shape\n",
    "GluOffy = logistic(GluOffx, x0 * fs, -k, min=0, max=gconc) #original, logistic agonist off shape\n",
    "Glu[19800*fs:19900*fs] = GluOffy"
   ]
  },
  {
   "cell_type": "code",
   "execution_count": 9,
   "metadata": {
    "tags": []
   },
   "outputs": [
    {
     "data": {
      "image/png": "[encoded data removed]",
      "text/plain": [
       "<Figure size 1000x600 with 1 Axes>"
      ]
     },
     "metadata": {},
     "output_type": "display_data"
    },
    {
     "data": {
      "image/png": "[encoded data removed]",
      "text/plain": [
       "<Figure size 1000x600 with 1 Axes>"
      ]
     },
     "metadata": {},
     "output_type": "display_data"
    }
   ],
   "source": [
    "# Plot\n",
    "timestep = 1 / fs  # Time step between samples\n",
    "agtime = np.arange(len(Glu)) * timestep\n",
    "\n",
    "plt.figure(figsize=(10, 6))\n",
    "plt.plot(agtime, Glu)\n",
    "plt.xlabel(\"Time (ms)\")\n",
    "plt.ylabel(\"Glu (μM)\")  # Modify the units accordingly\n",
    "plt.title(\"Agonist\")\n",
    "plt.grid(True)\n",
    "plt.show()\n",
    "\n",
    "plt.figure(figsize=(10, 6))\n",
    "plt.plot(agtime, Glu)\n",
    "plt.xlabel(\"Time (ms)\")\n",
    "plt.ylabel(\"Glu (μM)\")  # Modify the units accordingly\n",
    "plt.title(\"Agonist\")\n",
    "#plt.ylim(0, 200)\n",
    "plt.xlim(1010, 2020)\n",
    "plt.grid(True)\n",
    "plt.show()"
   ]
  },
  {
   "cell_type": "markdown",
   "metadata": {},
   "source": [
    "Now we \"play\" the arrays into NEURON vectors (think play as in playing a movie\"). I don't like the terminology but that's what they chose."
   ]
  },
  {
   "cell_type": "code",
   "execution_count": 10,
   "metadata": {
    "tags": []
   },
   "outputs": [
    {
     "ename": "NameError",
     "evalue": "name 'NMDAR' is not defined",
     "output_type": "error",
     "traceback": [
      "\u001b[1;31m---------------------------------------------------------------------------\u001b[0m",
      "\u001b[1;31mNameError\u001b[0m                                 Traceback (most recent call last)",
      "Cell \u001b[1;32mIn[10], line 3\u001b[0m\n\u001b[0;32m      1\u001b[0m \u001b[38;5;66;03m# Create vector from array and play into the mechanism\u001b[39;00m\n\u001b[0;32m      2\u001b[0m GluProtocol \u001b[38;5;241m=\u001b[39m h\u001b[38;5;241m.\u001b[39mVector(Glu)\n\u001b[1;32m----> 3\u001b[0m GluProtocol\u001b[38;5;241m.\u001b[39mplay(NMDAR\u001b[38;5;241m.\u001b[39m_ref_A, \u001b[38;5;241m0.5\u001b[39m)\n",
      "\u001b[1;31mNameError\u001b[0m: name 'NMDAR' is not defined"
     ]
    }
   ],
   "source": [
    "# Create vector from array and play into the mechanism\n",
    "GluProtocol = h.Vector(Glu)\n",
    "GluProtocol.play(NMDAR._ref_A, 0.5)"
   ]
  },
  {
   "cell_type": "markdown",
   "metadata": {},
   "source": [
    "# Set your simulation parameters, run the simulation, and plot the results"
   ]
  },
  {
   "cell_type": "code",
   "execution_count": 20,
   "metadata": {
    "tags": []
   },
   "outputs": [
    {
     "data": {
      "image/png": "[encoded data removed]",
      "text/plain": [
       "<Figure size 720x432 with 1 Axes>"
      ]
     },
     "metadata": {
      "needs_background": "light"
     },
     "output_type": "display_data"
    }
   ],
   "source": [
    "# simulation parameters\n",
    "h.tstop = 20000 # ms, simulation duration\n",
    "h.steps_per_ms = 2\n",
    "h.dt = 0.5\n",
    "h.celsius = 23\n",
    "\n",
    "# You can quickly modify your model parameters (rate constants, N, [Ca], etc.) as shown below. Helpful for quickly testing different parameter values \n",
    "# without modifying the original MOD FILE, and for hand-fitting your initial simulation.\n",
    "\n",
    "NMDAR.Ca = 0\n",
    "\n",
    "#these are rates- can change them here, or change mod file. Changing them here takes precedence over\n",
    "#mod file- if i change them in the mod file, save a seperate version and then have to load /compile that version\n",
    "#with the first line of code again\n",
    "\n",
    "NMDAR.kCa1 = 0\n",
    "NMDAR.kCa0 = 0\n",
    "NMDAR.ka1 = .005\n",
    "NMDAR.ka0 = .025\n",
    "NMDAR.kg1 =.071\n",
    "NMDAR.kg0 = .305\n",
    "NMDAR.kcdd1 = 0\n",
    "NMDAR.kcdd0 = 0\n",
    "NMDAR.kd1 = 0.000079496\n",
    "NMDAR.kd0 = 0.00016831\n",
    "NMDAR.k1M = 0\n",
    "NMDAR.k0M = 0\n",
    "NMDAR.ka1M = 0\n",
    "NMDAR.ka0M = 0\n",
    "NMDAR.kg1M = 0\n",
    "NMDAR.kg0M = 0\n",
    "NMDAR.kcdd1M = 0\n",
    "NMDAR.kcdd0M = 0\n",
    "NMDAR.kd1M = 0\n",
    "NMDAR.kd0M = 0\n",
    "NMDAR.nrecepts = 2.272\n",
    "\n",
    "\n",
    "# Run the NEURON simulation\n",
    "h.run()\n",
    "\n",
    "\n",
    "# plt.figure(figsize=(10, 6))\n",
    "# plt.plot(time, im)\n",
    "# plt.xlabel(\"Time (ms)\")\n",
    "# plt.ylabel(\"Current (pA)\")  # Modify the units accordingly\n",
    "# plt.title(\"SimTrace\")\n",
    "# plt.grid(True)\n",
    "# plt.show()\n",
    "\n",
    "# Can plot the experimental data too, just for a visual comparison\n",
    "# plt.figure(figsize=(10, 6))\n",
    "# plt.plot(expt, expi)\n",
    "# plt.xlabel('Time')\n",
    "# plt.ylabel('Current (pA)')\n",
    "# plt.title(\"Experimental Trace\")\n",
    "# plt.grid(True)\n",
    "# plt.show()\n",
    "\n",
    "# Plot together if you want a better visual comparision\n",
    "plt.figure(figsize=(10, 6))\n",
    "# Plot the first dataset in black\n",
    "#change if looking at peak only \n",
    "plt.plot(expt, expi, color='blue', label='Experimental Trace')\n",
    "# Plot the second dataset in blue\n",
    "plt.plot(time, im, color='red', label='SimTrace')\n",
    "plt.xlabel('Time (ms)')\n",
    "plt.ylabel('Current (au)')  # Ensure units are consistent for both datasets\n",
    "plt.title(\"Comparison of Sim and Exp\")\n",
    "#line below is zooming in, comment out to see whole thing\n",
    "#plt.xlim(1053, 1100)\n",
    "plt.grid(True)\n",
    "plt.legend()\n",
    "plt.show()\n",
    "\n"
   ]
  },
  {
   "cell_type": "markdown",
   "metadata": {},
   "source": [
    "# The below step is not necessary for fitting, \n",
    "but generally makes doing array manipulations for plotting easier. Can skip if you want. All it does is add or remove values to/from the end baseline region of the experimental trace to ensure it is the exact same number of points as the simulation trace."
   ]
  },
  {
   "cell_type": "code",
   "execution_count": 21,
   "metadata": {
    "tags": []
   },
   "outputs": [
    {
     "name": "stdout",
     "output_type": "stream",
     "text": [
      "simi: 40001\n",
      "expi: 39815\n"
     ]
    }
   ],
   "source": [
    "# Convert simulation values to arrays and check that lengths of sim and exp data match\n",
    "simt = np.array(time)\n",
    "simi = np.array(im)\n",
    "\n",
    "print(\"simi:\", len(simi))\n",
    "print(\"expi:\", len(expi))"
   ]
  },
  {
   "cell_type": "code",
   "execution_count": 22,
   "metadata": {
    "tags": []
   },
   "outputs": [
    {
     "name": "stdout",
     "output_type": "stream",
     "text": [
      "expt: 40001\n",
      "[20090.41659104 20090.91890168 20091.42121233 20091.92352297\n",
      " 20092.42583362]\n",
      "expi: 40001\n",
      "[-0.04117341 -0.04117341 -0.04117341 -0.04117341 -0.04117341]\n"
     ]
    }
   ],
   "source": [
    "# Make the lengths match if they don't\n",
    "# For expt, add the next three sequential time steps\n",
    "time_step = expt[-1] - expt[-2]\n",
    "\n",
    "while len(expt) < len(simt):\n",
    "    expt = np.append(expt, expt[-1] + time_step)\n",
    "    \n",
    "print(\"expt:\", len(expt))\n",
    "print(expt[-5:]) #check that we added the appropriate values\n",
    "\n",
    "# For expi, just add the final value (i.e. a baseline value) \n",
    "while len(expi) < len(simi):\n",
    "    expi = np.append(expi, expi[-1])\n",
    "    \n",
    "print(\"expi:\", len(expi))\n",
    "print(expi[-5:]) #check that we added the appropriate values"
   ]
  },
  {
   "cell_type": "markdown",
   "metadata": {},
   "source": [
    "# Time to fit! "
   ]
  },
  {
   "cell_type": "markdown",
   "metadata": {},
   "source": [
    "First we create a Multiple Run Fitter (mrf), neuron's built-in fitting tool. We then create a generator within the mrf (think of the mrf as a folder, and a generator as a subfolder) then fill the generator with experimental data and the simulation data before setting up our fit."
   ]
  },
  {
   "cell_type": "code",
   "execution_count": 23,
   "metadata": {
    "tags": []
   },
   "outputs": [],
   "source": [
    "# Create NEURON Vectors and fill with experimental data, for later fitting.\n",
    "expt_vec = h.Vector(expt)\n",
    "expi_vec = h.Vector(expi)\n",
    "\n",
    "# #changed for peak fitting \n",
    "# expt_vec = h.Vector(time_peak)\n",
    "# expi_vec = h.Vector(current_peak)"
   ]
  },
  {
   "cell_type": "code",
   "execution_count": 24,
   "metadata": {
    "tags": []
   },
   "outputs": [],
   "source": [
    "# Create a Multiple Run Fitter\n",
    "mrf = h.MulRunFitter()\n",
    "mrf.p.pf.title = \"CaPlanesFit0_GluApp\"\n",
    "mrf.p.mulfit.title = \"CaPlanesFit0_GluApp\""
   ]
  },
  {
   "cell_type": "code",
   "execution_count": 25,
   "metadata": {
    "tags": []
   },
   "outputs": [
    {
     "data": {
      "text/plain": [
       "0.0"
      ]
     },
     "execution_count": 25,
     "metadata": {},
     "output_type": "execute_result"
    }
   ],
   "source": [
    "# Add generator\n",
    "mrf.p.addgen(0)\n",
    "gen0 = mrf.p.pf.generatorlist.object(0)\n",
    "mrf.p.usepanel()"
   ]
  },
  {
   "cell_type": "code",
   "execution_count": 26,
   "metadata": {
    "tags": []
   },
   "outputs": [
    {
     "data": {
      "text/plain": [
       "0.0"
      ]
     },
     "execution_count": 26,
     "metadata": {},
     "output_type": "execute_result"
    }
   ],
   "source": [
    "# Turn on generator\n",
    "gen0.toggle()"
   ]
  },
  {
   "cell_type": "markdown",
   "metadata": {},
   "source": [
    "Set up your fitness measure, i.e. the method with which the simulation will be fit to data. We are using principal axis reduction."
   ]
  },
  {
   "cell_type": "code",
   "execution_count": 27,
   "metadata": {
    "tags": []
   },
   "outputs": [
    {
     "data": {
      "text/plain": [
       "0.0"
      ]
     },
     "execution_count": 27,
     "metadata": {},
     "output_type": "execute_result"
    }
   ],
   "source": [
    "# Add a fitness measure\n",
    "fitness_measure = h.RegionFitness()\n",
    "\n",
    "# Specify the variable from the simulation for fitting\n",
    "gen0.gen.add('CaPlaneNMDARwMem[0].Inmda', fitness_measure)\n",
    "\n",
    "# Set the data to be fit to\n",
    "fitness_measure.set_data(expt_vec, expi_vec) #defined earlier, but loaded here"
   ]
  },
  {
   "cell_type": "markdown",
   "metadata": {},
   "source": [
    "Display and test your generator, i.e. the object that contains your simulation and experimental data."
   ]
  },
  {
   "cell_type": "code",
   "execution_count": 28,
   "metadata": {
    "tags": []
   },
   "outputs": [
    {
     "data": {
      "text/plain": [
       "0.0"
      ]
     },
     "execution_count": 28,
     "metadata": {},
     "output_type": "execute_result"
    }
   ],
   "source": [
    "# Display generator so you can watch your fit progress.\n",
    "mrf.p.gmode = 1\n",
    "mrf.p.gmodestr = \"Display\"\n",
    "mrf.p.gensel(0, 1)"
   ]
  },
  {
   "cell_type": "code",
   "execution_count": 29,
   "metadata": {
    "tags": []
   },
   "outputs": [
    {
     "name": "stdout",
     "output_type": "stream",
     "text": [
      "Fitness Error Value: 0.005895026158028881\n"
     ]
    },
    {
     "data": {
      "image/png": "[encoded data removed]",
      "text/plain": [
       "<Figure size 720x432 with 1 Axes>"
      ]
     },
     "metadata": {
      "needs_background": "light"
     },
     "output_type": "display_data"
    }
   ],
   "source": [
    "# Test the run fitness generator\n",
    "error_value_init = gen0.gen.efun() \n",
    "\n",
    "# Print the error value\n",
    "print(\"Fitness Error Value:\", error_value_init)\n",
    "\n",
    "plt.figure(figsize=(10, 6))\n",
    "#change if looking at peak\n",
    "plt.plot(expt, expi, color='blue', label='Experimental Trace')\n",
    "plt.plot(time, im, color='red', label='SimTrace')\n",
    "plt.xlabel('Time (ms)')\n",
    "plt.ylabel('Current (pA)')  # Ensure units are consistent for both datasets\n",
    "plt.title(\"Comparison of Sim and Exp\")\n",
    "plt.grid(False)\n",
    "plt.legend()\n",
    "\n",
    "plt.show()"
   ]
  },
  {
   "cell_type": "markdown",
   "metadata": {
    "tags": []
   },
   "source": [
    "# Manage the parameters for your simulation/fit\n",
    "The following cells designate your parameters, set their initial values, and allow you to choose which are fixed or free:"
   ]
  },
  {
   "cell_type": "code",
   "execution_count": 30,
   "metadata": {
    "tags": []
   },
   "outputs": [
    {
     "data": {
      "text/plain": [
       "21.0"
      ]
     },
     "execution_count": 30,
     "metadata": {},
     "output_type": "execute_result"
    }
   ],
   "source": [
    "# Append parameters\n",
    "mrf.p.pf.parmlist.append(h.RunFitParm(\"CaPlaneNMDARwMem[0].kCa1\"))\n",
    "mrf.p.pf.parmlist.append(h.RunFitParm(\"CaPlaneNMDARwMem[0].kCa0\"))\n",
    "mrf.p.pf.parmlist.append(h.RunFitParm(\"CaPlaneNMDARwMem[0].ka1\"))\n",
    "mrf.p.pf.parmlist.append(h.RunFitParm(\"CaPlaneNMDARwMem[0].ka0\"))\n",
    "mrf.p.pf.parmlist.append(h.RunFitParm(\"CaPlaneNMDARwMem[0].kg1\"))\n",
    "mrf.p.pf.parmlist.append(h.RunFitParm(\"CaPlaneNMDARwMem[0].kg0\"))\n",
    "mrf.p.pf.parmlist.append(h.RunFitParm(\"CaPlaneNMDARwMem[0].kcdd1\"))\n",
    "mrf.p.pf.parmlist.append(h.RunFitParm(\"CaPlaneNMDARwMem[0].kcdd0\"))\n",
    "mrf.p.pf.parmlist.append(h.RunFitParm(\"CaPlaneNMDARwMem[0].kd1\"))\n",
    "mrf.p.pf.parmlist.append(h.RunFitParm(\"CaPlaneNMDARwMem[0].kd0\"))\n",
    "mrf.p.pf.parmlist.append(h.RunFitParm(\"CaPlaneNMDARwMem[0].k1M\"))\n",
    "mrf.p.pf.parmlist.append(h.RunFitParm(\"CaPlaneNMDARwMem[0].k0M\"))\n",
    "mrf.p.pf.parmlist.append(h.RunFitParm(\"CaPlaneNMDARwMem[0].ka1M\"))\n",
    "mrf.p.pf.parmlist.append(h.RunFitParm(\"CaPlaneNMDARwMem[0].ka0M\"))\n",
    "mrf.p.pf.parmlist.append(h.RunFitParm(\"CaPlaneNMDARwMem[0].kg1M\"))\n",
    "mrf.p.pf.parmlist.append(h.RunFitParm(\"CaPlaneNMDARwMem[0].kg0M\"))\n",
    "mrf.p.pf.parmlist.append(h.RunFitParm(\"CaPlaneNMDARwMem[0].kcdd1M\"))\n",
    "mrf.p.pf.parmlist.append(h.RunFitParm(\"CaPlaneNMDARwMem[0].kcdd0M\"))\n",
    "mrf.p.pf.parmlist.append(h.RunFitParm(\"CaPlaneNMDARwMem[0].kd1M\"))\n",
    "mrf.p.pf.parmlist.append(h.RunFitParm(\"CaPlaneNMDARwMem[0].kd0M\"))\n",
    "mrf.p.pf.parmlist.append(h.RunFitParm(\"CaPlaneNMDARwMem[0].nrecepts\"))"
   ]
  },
  {
   "cell_type": "code",
   "execution_count": 31,
   "metadata": {
    "tags": []
   },
   "outputs": [],
   "source": [
    "# Set parameter values\n",
    "# : Transition b/t planes\n",
    "#     kCa1 = 1e-3         (uM-1 s-1)    :Ca \"binding\"\n",
    "mrf.p.pf.parmlist.object(0).val = 0\n",
    "#     kCa0 = 0.75e-3      (ms-1)        :Ca \"unbinding\"\n",
    "mrf.p.pf.parmlist.object(1).val = 0\n",
    "\n",
    "\n",
    "# :Unblocked Arm\n",
    "#     ka1 = 31.6           (uM-1 s-1)   :Agonist binding\n",
    "mrf.p.pf.parmlist.object(2).val = .005\n",
    "#     ka0 = 1010e-3        (ms-1)       :Agonist unbinding\n",
    "mrf.p.pf.parmlist.object(3).val = .025\n",
    "\n",
    "\n",
    "# :  Gating \n",
    "#     kg1 = 4772.41e-3     (ms-1)       :opening\n",
    "mrf.p.pf.parmlist.object(4).val = 0.071\n",
    "#     kg0 = 557e-3         (ms-1)       :closing\n",
    "mrf.p.pf.parmlist.object(5).val = .305\n",
    "\n",
    "# :  Desensitization\n",
    "#     kcdd1 = 32.12e-3     (ms-1)       :into Ca-dependent desen\n",
    "mrf.p.pf.parmlist.object(6).val = 0\n",
    "\n",
    "#     kcdd0 = 2.92e-3      (ms-1)       :out of CDD\n",
    "mrf.p.pf.parmlist.object(7).val = 0\n",
    "#     kd1 = 0.66e-3        (ms-1)       :into desens\n",
    "mrf.p.pf.parmlist.object(8).val = 0.000079496\n",
    "#     kd0 = 0.05e-3        (ms-1)       :out of desens\n",
    "mrf.p.pf.parmlist.object(9).val = 0.00016831\n",
    "\n",
    "\n",
    "# :Blocked Arm\n",
    "#     k1M = 30              (uM-1 s-1)  :Block rate\n",
    "mrf.p.pf.parmlist.object(10).val = 0\n",
    "#     k0M = 24e-3           (ms-1)      :Unblock rate\n",
    "mrf.p.pf.parmlist.object(11).val = 0\n",
    "#     ka1M = 31.6           (uM-1 s-1)  :Agonist binding\n",
    "mrf.p.pf.parmlist.object(12).val = 0\n",
    "#     ka0M = 1010e-3        (ms-1)      :Agonist unbinding\n",
    "mrf.p.pf.parmlist.object(13).val = 0\n",
    "\n",
    "# :  Gating                                                \n",
    "#     kg1M = 4772.41e-3     (ms-1)      :opening\n",
    "mrf.p.pf.parmlist.object(14).val = 0\n",
    "#     kg0M = 53.017e-3      (ms-1)      :closing \n",
    "mrf.p.pf.parmlist.object(15).val = 0\n",
    "\n",
    "# :  Desensitization\n",
    "#     kcdd1M = 64.24e-3     (ms-1)      :into Ca-dependent desen\n",
    "mrf.p.pf.parmlist.object(16).val = 0\n",
    "#     kcdd0M = 0.6e-3       (ms-1)      :out of CDD\n",
    "mrf.p.pf.parmlist.object(17).val = 0\n",
    "#     kd1M = 0.54e-3        (ms-1)      :into desens\n",
    "mrf.p.pf.parmlist.object(18).val = 0\n",
    "#     kd0M = 0.0125e-3      (ms-1)      :out of desens\n",
    "mrf.p.pf.parmlist.object(19).val = 0\n",
    "\n",
    "# :  Other params\n",
    "#     nrecepts = 0.5     arbitrary due to normalization (I/I)     \n",
    "mrf.p.pf.parmlist.object(20).val = 2.2723"
   ]
  },
  {
   "cell_type": "code",
   "execution_count": 32,
   "metadata": {
    "tags": []
   },
   "outputs": [
    {
     "name": "stdout",
     "output_type": "stream",
     "text": [
      "CaPlaneNMDARwMem[0].kCa1 0.0\n",
      "CaPlaneNMDARwMem[0].nrecepts 2.2723\n"
     ]
    }
   ],
   "source": [
    "#Shows that params have been added to parmlist.\n",
    "\n",
    "print(mrf.p.pf.parmlist.o(0).name, mrf.p.pf.parmlist.o(0).val) \n",
    "print(mrf.p.pf.parmlist.o(20).name, mrf.p.pf.parmlist.o(20).val)\n"
   ]
  },
  {
   "cell_type": "code",
   "execution_count": 33,
   "metadata": {
    "tags": []
   },
   "outputs": [
    {
     "data": {
      "text/plain": [
       "0.0"
      ]
     },
     "execution_count": 33,
     "metadata": {},
     "output_type": "execute_result"
    }
   ],
   "source": [
    "# Display parameter panel in NEURON, makes it easier to follow if you can just see it\n",
    "mrf.p.showargs()"
   ]
  },
  {
   "cell_type": "code",
   "execution_count": 34,
   "metadata": {
    "tags": []
   },
   "outputs": [
    {
     "data": {
      "text/plain": [
       "0.0"
      ]
     },
     "execution_count": 34,
     "metadata": {},
     "output_type": "execute_result"
    }
   ],
   "source": [
    "# Toggle variables. 0 = fixed, 1 = free\n",
    "\n",
    "# kCa1\n",
    "mrf.p.pf.parmlist.o(0).doarg = 0\n",
    "# kCa0\n",
    "mrf.p.pf.parmlist.o(1).doarg = 0\n",
    "# ka1\n",
    "mrf.p.pf.parmlist.o(2).doarg = 0\n",
    "# ka0 \n",
    "mrf.p.pf.parmlist.o(3).doarg = 0\n",
    "# kg1 \n",
    "mrf.p.pf.parmlist.o(4).doarg = 0\n",
    "# kg0 \n",
    "mrf.p.pf.parmlist.o(5).doarg = 0\n",
    "# kcdd1\n",
    "mrf.p.pf.parmlist.o(6).doarg = 0\n",
    "# kcdd0 \n",
    "mrf.p.pf.parmlist.o(7).doarg = 0\n",
    "# kd1 \n",
    "mrf.p.pf.parmlist.o(8).doarg = 0\n",
    "# kd0 \n",
    "mrf.p.pf.parmlist.o(9).doarg = 0\n",
    "# k1M \n",
    "mrf.p.pf.parmlist.o(10).doarg = 0\n",
    "# k0M \n",
    "mrf.p.pf.parmlist.o(11).doarg = 0\n",
    "# ka1M \n",
    "mrf.p.pf.parmlist.o(12).doarg = 0\n",
    "# ka0M \n",
    "mrf.p.pf.parmlist.o(13).doarg = 0\n",
    "# kg1M \n",
    "mrf.p.pf.parmlist.o(14).doarg = 0\n",
    "# kg0M \n",
    "mrf.p.pf.parmlist.o(15).doarg = 0\n",
    "# kcdd1M\n",
    "mrf.p.pf.parmlist.o(16).doarg = 0\n",
    "# kcdd0M \n",
    "mrf.p.pf.parmlist.o(17).doarg = 0\n",
    "# kd1M\n",
    "mrf.p.pf.parmlist.o(18).doarg = 0\n",
    "# kd0M \n",
    "mrf.p.pf.parmlist.o(19).doarg = 0\n",
    "# nrecepts\n",
    "mrf.p.pf.parmlist.o(20).doarg = 0\n",
    "\n",
    "mrf.p.pf.def_parmlist_use()"
   ]
  },
  {
   "cell_type": "code",
   "execution_count": 35,
   "metadata": {
    "tags": []
   },
   "outputs": [
    {
     "data": {
      "text/plain": [
       "0.0"
      ]
     },
     "execution_count": 35,
     "metadata": {},
     "output_type": "execute_result"
    }
   ],
   "source": [
    "# Step 5C: Constrain parameters\n",
    "mrf.p.showdomain()\n",
    "mrf.p.uselog(1)\n",
    "mrf.p.limits(1e-5, 1e5)"
   ]
  },
  {
   "cell_type": "markdown",
   "metadata": {},
   "source": [
    "# Manage your optimization settings:"
   ]
  },
  {
   "cell_type": "code",
   "execution_count": 36,
   "metadata": {
    "tags": []
   },
   "outputs": [],
   "source": [
    "# Choose and use optimizer\n",
    "mrf.opt.set_optimizer(h.mulfit_optimizers_[0].s)\n",
    "mrf.p.mulfit.showopt()\n",
    "\n",
    "# Change \"# of quad forms before return\"\n",
    "mrf.opt.optimizer.nstep = 1"
   ]
  },
  {
   "cell_type": "markdown",
   "metadata": {},
   "source": [
    "# Run the fit"
   ]
  },
  {
   "cell_type": "code",
   "execution_count": 37,
   "metadata": {
    "tags": []
   },
   "outputs": [
    {
     "data": {
      "image/png": "[encoded data removed]",
      "text/plain": [
       "<Figure size 720x432 with 1 Axes>"
      ]
     },
     "metadata": {
      "needs_background": "light"
     },
     "output_type": "display_data"
    },
    {
     "name": "stdout",
     "output_type": "stream",
     "text": [
      "Fitness Error Value: 0.005895026158028881\n"
     ]
    }
   ],
   "source": [
    "# Run optimizer\n",
    "for _ in range(5):\n",
    "    mrf.prun()\n",
    "    \n",
    "plt.figure(figsize=(10, 6))\n",
    "#change if looking at peak\n",
    "plt.plot(expt, expi, color='blue', label='Experimental Trace')\n",
    "plt.plot(time, im, color='red', label='SimTrace')\n",
    "plt.xlabel('Time (ms)')\n",
    "plt.ylabel('Current (pA)')  # Ensure units are consistent for both datasets\n",
    "plt.title(\"Comparison of Sim and Exp\")\n",
    "plt.grid(False)\n",
    "#plt.xlim(990,1065)\n",
    "plt.legend()\n",
    "\n",
    "plt.show()\n",
    "\n",
    "error_value_final0 = gen0.gen.efun()\n",
    "# Print the error value\n",
    "print(\"Fitness Error Value:\", error_value_final0)\n",
    "\n",
    "# kD = (mrf.p.pf.parmlist.object(0).val/mrf.p.pf.parmlist.object(1).val)\n",
    "# # Print the kD value\n",
    "# print(\"kD:\", kD)"
   ]
  },
  {
   "cell_type": "markdown",
   "metadata": {},
   "source": [
    "If you want to inspect/adjust the figure without waiting for the fit to run again, just uncomment the cell below:\n",
    "can change save path, or sends it to current folder as is"
   ]
  },
  {
   "cell_type": "code",
   "execution_count": 38,
   "metadata": {
    "tags": []
   },
   "outputs": [
    {
     "data": {
      "image/png": "[encoded data removed]",
      "text/plain": [
       "<Figure size 720x432 with 1 Axes>"
      ]
     },
     "metadata": {
      "needs_background": "light"
     },
     "output_type": "display_data"
    }
   ],
   "source": [
    "plt.figure(figsize=(10, 6))\n",
    "plt.plot(expt, expi, color='blue', label='Experimental Trace')\n",
    "plt.plot(time, im, color='red', label='SimTrace')\n",
    "plt.xlabel('Time (ms)')\n",
    "plt.ylabel('Current (pA)')  # Ensure units are consistent for both datasets\n",
    "plt.title(\"Comparison of Sim and Exp\")\n",
    "plt.grid(False)\n",
    "plt.legend()\n",
    " # Run this line to save the plot. Can be run on its own after the fit if desired\n",
    " # plt.savefig('OptGlu0Ca.pdf', transparent=True) \n",
    "#plt.xlim(990,1100)\n",
    "plt.show()"
   ]
  },
  {
   "cell_type": "code",
   "execution_count": 39,
   "metadata": {},
   "outputs": [],
   "source": [
    "#making experimental trace a csv\n",
    "exptrace = {'time': expt, 'exp trace': expi}\n",
    "df = pd.DataFrame(exptrace)\n",
    "df.to_csv('0Ca0Mem', index = False)\n",
    "\n",
    "#making modeled trace a csv\n",
    "simtrace = {'time': time, 'sim trace': im}\n",
    "df2 = pd.DataFrame(simtrace)\n",
    "df2.to_csv('sim0Ca0Mem', index = False)\n",
    "\n",
    "#making a collated csv to contain both experimental and simulated trace\n",
    "collated_df = pd.merge(df, df2, on = 'time', how = 'outer')\n",
    "collated_df.to_csv('0Ca0Mem.csv', index = False)"
   ]
  },
  {
   "cell_type": "markdown",
   "metadata": {},
   "source": [
    "Make a table for exporting values:"
   ]
  },
  {
   "cell_type": "code",
   "execution_count": 40,
   "metadata": {
    "tags": []
   },
   "outputs": [],
   "source": [
    "paramvalues = (\n",
    "mrf.p.pf.parmlist.object(0).val,\n",
    "mrf.p.pf.parmlist.object(1).val,\n",
    "mrf.p.pf.parmlist.object(2).val,\n",
    "mrf.p.pf.parmlist.object(3).val,\n",
    "mrf.p.pf.parmlist.object(4).val, \n",
    "mrf.p.pf.parmlist.object(5).val,\n",
    "mrf.p.pf.parmlist.object(6).val,\n",
    "mrf.p.pf.parmlist.object(7).val,\n",
    "mrf.p.pf.parmlist.object(8).val,\n",
    "mrf.p.pf.parmlist.object(9).val,\n",
    "mrf.p.pf.parmlist.object(10).val,\n",
    "mrf.p.pf.parmlist.object(11).val,\n",
    "mrf.p.pf.parmlist.object(12).val,\n",
    "mrf.p.pf.parmlist.object(13).val,\n",
    "mrf.p.pf.parmlist.object(14).val,\n",
    "mrf.p.pf.parmlist.object(15).val, \n",
    "mrf.p.pf.parmlist.object(16).val,\n",
    "mrf.p.pf.parmlist.object(17).val,\n",
    "mrf.p.pf.parmlist.object(18).val,\n",
    "mrf.p.pf.parmlist.object(19).val,\n",
    "mrf.p.pf.parmlist.object(20).val,\n",
    "error_value_final0)\n",
    "paramnames = (\"kCa0\", \"kCa1\", \"ka1\", \"ka0\", \"kg1\", \"kg0\", \"kcdd1\", \"kcdd0\", \"kd1\", \"kd0\", \"k1M\", \"k0M\", \"ka1M\", \"ka0M\", \"kg1M\", \"kg0M\", \"kcdd1M\", \"kcdd0M\", \"kd1M\", \"kd0M\", \"nrecepts\", \"Least squares error\")"
   ]
  },
  {
   "cell_type": "markdown",
   "metadata": {},
   "source": [
    "Check that your table has the correct values in the correct places:"
   ]
  },
  {
   "cell_type": "code",
   "execution_count": 41,
   "metadata": {
    "tags": []
   },
   "outputs": [
    {
     "name": "stdout",
     "output_type": "stream",
     "text": [
      "CaPlaneNMDARwMem[0].kg1 0.071\n",
      "CaPlaneNMDARwMem[0].nrecepts 2.2723\n"
     ]
    }
   ],
   "source": [
    "print(mrf.p.pf.parmlist.o(4).name, mrf.p.pf.parmlist.o(4).val) #Shows that params have been added to parmlist\n",
    "print(mrf.p.pf.parmlist.o(20).name, mrf.p.pf.parmlist.o(20).val)"
   ]
  },
  {
   "cell_type": "markdown",
   "metadata": {},
   "source": [
    "Export the table:"
   ]
  },
  {
   "cell_type": "code",
   "execution_count": 42,
   "metadata": {},
   "outputs": [
    {
     "data": {
      "text/html": [
       "<div>\n",
       "<style scoped>\n",
       "    .dataframe tbody tr th:only-of-type {\n",
       "        vertical-align: middle;\n",
       "    }\n",
       "\n",
       "    .dataframe tbody tr th {\n",
       "        vertical-align: top;\n",
       "    }\n",
       "\n",
       "    .dataframe thead th {\n",
       "        text-align: right;\n",
       "    }\n",
       "</style>\n",
       "<table border=\"1\" class=\"dataframe\">\n",
       "  <thead>\n",
       "    <tr style=\"text-align: right;\">\n",
       "      <th></th>\n",
       "      <th>Parameter</th>\n",
       "      <th>value</th>\n",
       "    </tr>\n",
       "  </thead>\n",
       "  <tbody>\n",
       "    <tr>\n",
       "      <th>0</th>\n",
       "      <td>kCa0</td>\n",
       "      <td>0.000000</td>\n",
       "    </tr>\n",
       "    <tr>\n",
       "      <th>1</th>\n",
       "      <td>kCa1</td>\n",
       "      <td>0.000000</td>\n",
       "    </tr>\n",
       "    <tr>\n",
       "      <th>2</th>\n",
       "      <td>ka1</td>\n",
       "      <td>0.005000</td>\n",
       "    </tr>\n",
       "    <tr>\n",
       "      <th>3</th>\n",
       "      <td>ka0</td>\n",
       "      <td>0.025000</td>\n",
       "    </tr>\n",
       "    <tr>\n",
       "      <th>4</th>\n",
       "      <td>kg1</td>\n",
       "      <td>0.071000</td>\n",
       "    </tr>\n",
       "    <tr>\n",
       "      <th>5</th>\n",
       "      <td>kg0</td>\n",
       "      <td>0.305000</td>\n",
       "    </tr>\n",
       "    <tr>\n",
       "      <th>6</th>\n",
       "      <td>kcdd1</td>\n",
       "      <td>0.000000</td>\n",
       "    </tr>\n",
       "    <tr>\n",
       "      <th>7</th>\n",
       "      <td>kcdd0</td>\n",
       "      <td>0.000000</td>\n",
       "    </tr>\n",
       "    <tr>\n",
       "      <th>8</th>\n",
       "      <td>kd1</td>\n",
       "      <td>0.000079</td>\n",
       "    </tr>\n",
       "    <tr>\n",
       "      <th>9</th>\n",
       "      <td>kd0</td>\n",
       "      <td>0.000168</td>\n",
       "    </tr>\n",
       "    <tr>\n",
       "      <th>10</th>\n",
       "      <td>k1M</td>\n",
       "      <td>0.000000</td>\n",
       "    </tr>\n",
       "    <tr>\n",
       "      <th>11</th>\n",
       "      <td>k0M</td>\n",
       "      <td>0.000000</td>\n",
       "    </tr>\n",
       "    <tr>\n",
       "      <th>12</th>\n",
       "      <td>ka1M</td>\n",
       "      <td>0.000000</td>\n",
       "    </tr>\n",
       "    <tr>\n",
       "      <th>13</th>\n",
       "      <td>ka0M</td>\n",
       "      <td>0.000000</td>\n",
       "    </tr>\n",
       "    <tr>\n",
       "      <th>14</th>\n",
       "      <td>kg1M</td>\n",
       "      <td>0.000000</td>\n",
       "    </tr>\n",
       "    <tr>\n",
       "      <th>15</th>\n",
       "      <td>kg0M</td>\n",
       "      <td>0.000000</td>\n",
       "    </tr>\n",
       "    <tr>\n",
       "      <th>16</th>\n",
       "      <td>kcdd1M</td>\n",
       "      <td>0.000000</td>\n",
       "    </tr>\n",
       "    <tr>\n",
       "      <th>17</th>\n",
       "      <td>kcdd0M</td>\n",
       "      <td>0.000000</td>\n",
       "    </tr>\n",
       "    <tr>\n",
       "      <th>18</th>\n",
       "      <td>kd1M</td>\n",
       "      <td>0.000000</td>\n",
       "    </tr>\n",
       "    <tr>\n",
       "      <th>19</th>\n",
       "      <td>kd0M</td>\n",
       "      <td>0.000000</td>\n",
       "    </tr>\n",
       "    <tr>\n",
       "      <th>20</th>\n",
       "      <td>nrecepts</td>\n",
       "      <td>2.272300</td>\n",
       "    </tr>\n",
       "    <tr>\n",
       "      <th>21</th>\n",
       "      <td>Least squares error</td>\n",
       "      <td>0.005895</td>\n",
       "    </tr>\n",
       "  </tbody>\n",
       "</table>\n",
       "</div>"
      ],
      "text/plain": [
       "              Parameter     value\n",
       "0                  kCa0  0.000000\n",
       "1                  kCa1  0.000000\n",
       "2                   ka1  0.005000\n",
       "3                   ka0  0.025000\n",
       "4                   kg1  0.071000\n",
       "5                   kg0  0.305000\n",
       "6                 kcdd1  0.000000\n",
       "7                 kcdd0  0.000000\n",
       "8                   kd1  0.000079\n",
       "9                   kd0  0.000168\n",
       "10                  k1M  0.000000\n",
       "11                  k0M  0.000000\n",
       "12                 ka1M  0.000000\n",
       "13                 ka0M  0.000000\n",
       "14                 kg1M  0.000000\n",
       "15                 kg0M  0.000000\n",
       "16               kcdd1M  0.000000\n",
       "17               kcdd0M  0.000000\n",
       "18                 kd1M  0.000000\n",
       "19                 kd0M  0.000000\n",
       "20             nrecepts  2.272300\n",
       "21  Least squares error  0.005895"
      ]
     },
     "execution_count": 42,
     "metadata": {},
     "output_type": "execute_result"
    }
   ],
   "source": [
    "valuelist = list(paramvalues)\n",
    "namelist = list(paramnames)\n",
    "paramdata = {'Parameter':paramnames, 'value':paramvalues}\n",
    "paramdf = pd.DataFrame(paramdata)\n",
    "paramdf.to_csv('optparams0Glu.csv', index = False)\n",
    "paramdf"
   ]
  },
  {
   "cell_type": "markdown",
   "metadata": {},
   "source": [
    "Save optimized simulation data for later plotting, etc.:"
   ]
  },
  {
   "cell_type": "code",
   "execution_count": 43,
   "metadata": {},
   "outputs": [],
   "source": [
    "# save optimized simulation data\n",
    "simiopt = np.array(im)\n",
    "np.save('simiopt0CaNMDARplanesGluApp.npy', simiopt)"
   ]
  },
  {
   "cell_type": "code",
   "execution_count": null,
   "metadata": {},
   "outputs": [],
   "source": []
  }
 ],
 "metadata": {
  "kernelspec": {
   "display_name": "Python 3 (ipykernel)",
   "language": "python",
   "name": "python3"
  },
  "language_info": {
   "codemirror_mode": {
    "name": "ipython",
    "version": 3
   },
   "file_extension": ".py",
   "mimetype": "text/x-python",
   "name": "python",
   "nbconvert_exporter": "python",
   "pygments_lexer": "ipython3",
   "version": "3.11.5"
  }
 },
 "nbformat": 4,
 "nbformat_minor": 4
}
